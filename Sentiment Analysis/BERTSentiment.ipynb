{
 "cells": [
  {
   "cell_type": "markdown",
   "id": "48a6cbc3",
   "metadata": {},
   "source": [
    " ## Hugging face\n",
    " https://huggingface.co/nlptown/bert-base-multilingual-uncased-sentiment"
   ]
  },
  {
   "cell_type": "markdown",
   "id": "b432353c",
   "metadata": {},
   "source": [
    "# 1. Install and Import Dependencies"
   ]
  },
  {
   "cell_type": "code",
   "execution_count": 2,
   "id": "ce2168a1",
   "metadata": {},
   "outputs": [
    {
     "name": "stdout",
     "output_type": "stream",
     "text": [
      "Looking in indexes: https://pypi.org/simple, https://download.pytorch.org/whl/cu117\n",
      "Collecting torch\n",
      "  Downloading https://download.pytorch.org/whl/cu117/torch-1.13.1%2Bcu117-cp39-cp39-win_amd64.whl (2255.6 MB)\n",
      "Collecting torchvision\n",
      "  Downloading https://download.pytorch.org/whl/cu117/torchvision-0.14.1%2Bcu117-cp39-cp39-win_amd64.whl (4.8 MB)\n",
      "Collecting torchaudio\n",
      "  Downloading https://download.pytorch.org/whl/cu117/torchaudio-0.13.1%2Bcu117-cp39-cp39-win_amd64.whl (2.3 MB)\n",
      "Requirement already satisfied: typing-extensions in d:\\anaconda\\lib\\site-packages (from torch) (3.10.0.2)\n",
      "Requirement already satisfied: pillow!=8.3.*,>=5.3.0 in d:\\anaconda\\lib\\site-packages (from torchvision) (8.4.0)\n",
      "Requirement already satisfied: requests in d:\\anaconda\\lib\\site-packages (from torchvision) (2.26.0)\n",
      "Requirement already satisfied: numpy in d:\\anaconda\\lib\\site-packages (from torchvision) (1.20.3)\n",
      "Requirement already satisfied: idna<4,>=2.5 in d:\\anaconda\\lib\\site-packages (from requests->torchvision) (3.2)\n",
      "Requirement already satisfied: charset-normalizer~=2.0.0 in d:\\anaconda\\lib\\site-packages (from requests->torchvision) (2.0.4)\n",
      "Requirement already satisfied: certifi>=2017.4.17 in d:\\anaconda\\lib\\site-packages (from requests->torchvision) (2021.10.8)\n",
      "Requirement already satisfied: urllib3<1.27,>=1.21.1 in d:\\anaconda\\lib\\site-packages (from requests->torchvision) (1.26.7)\n",
      "Installing collected packages: torch, torchvision, torchaudio\n",
      "Successfully installed torch-1.13.1+cu117 torchaudio-0.13.1+cu117 torchvision-0.14.1+cu117\n"
     ]
    }
   ],
   "source": [
    "# Install pytorch\n",
    "!pip install torch torchvision torchaudio --extra-index-url https://download.pytorch.org/whl/cu117"
   ]
  },
  {
   "cell_type": "code",
   "execution_count": 3,
   "id": "a0038b72",
   "metadata": {
    "scrolled": true
   },
   "outputs": [
    {
     "name": "stdout",
     "output_type": "stream",
     "text": [
      "Collecting transformers\n",
      "  Downloading transformers-4.26.1-py3-none-any.whl (6.3 MB)\n",
      "Requirement already satisfied: requests in d:\\anaconda\\lib\\site-packages (2.26.0)\n",
      "Requirement already satisfied: beautifulsoup4 in d:\\anaconda\\lib\\site-packages (4.10.0)\n",
      "Requirement already satisfied: pandas in d:\\anaconda\\lib\\site-packages (1.3.4)\n",
      "Requirement already satisfied: numpy in d:\\anaconda\\lib\\site-packages (1.20.3)\n",
      "Collecting tokenizers!=0.11.3,<0.14,>=0.11.1\n",
      "  Downloading tokenizers-0.13.2-cp39-cp39-win_amd64.whl (3.3 MB)\n",
      "Requirement already satisfied: regex!=2019.12.17 in d:\\anaconda\\lib\\site-packages (from transformers) (2021.8.3)\n",
      "Collecting huggingface-hub<1.0,>=0.11.0\n",
      "  Downloading huggingface_hub-0.12.1-py3-none-any.whl (190 kB)\n",
      "Requirement already satisfied: tqdm>=4.27 in d:\\anaconda\\lib\\site-packages (from transformers) (4.62.3)\n",
      "Requirement already satisfied: pyyaml>=5.1 in d:\\anaconda\\lib\\site-packages (from transformers) (6.0)\n",
      "Requirement already satisfied: packaging>=20.0 in d:\\anaconda\\lib\\site-packages (from transformers) (21.0)\n",
      "Requirement already satisfied: filelock in d:\\anaconda\\lib\\site-packages (from transformers) (3.3.1)\n",
      "Requirement already satisfied: certifi>=2017.4.17 in d:\\anaconda\\lib\\site-packages (from requests) (2021.10.8)\n",
      "Requirement already satisfied: charset-normalizer~=2.0.0 in d:\\anaconda\\lib\\site-packages (from requests) (2.0.4)\n",
      "Requirement already satisfied: urllib3<1.27,>=1.21.1 in d:\\anaconda\\lib\\site-packages (from requests) (1.26.7)\n",
      "Requirement already satisfied: idna<4,>=2.5 in d:\\anaconda\\lib\\site-packages (from requests) (3.2)\n",
      "Requirement already satisfied: soupsieve>1.2 in d:\\anaconda\\lib\\site-packages (from beautifulsoup4) (2.2.1)\n",
      "Requirement already satisfied: pytz>=2017.3 in d:\\anaconda\\lib\\site-packages (from pandas) (2021.3)\n",
      "Requirement already satisfied: python-dateutil>=2.7.3 in d:\\anaconda\\lib\\site-packages (from pandas) (2.8.2)\n",
      "Requirement already satisfied: typing-extensions>=3.7.4.3 in d:\\anaconda\\lib\\site-packages (from huggingface-hub<1.0,>=0.11.0->transformers) (3.10.0.2)\n",
      "Requirement already satisfied: pyparsing>=2.0.2 in d:\\anaconda\\lib\\site-packages (from packaging>=20.0->transformers) (3.0.4)\n",
      "Requirement already satisfied: six>=1.5 in c:\\users\\virginia phan\\appdata\\roaming\\python\\python39\\site-packages (from python-dateutil>=2.7.3->pandas) (1.15.0)\n",
      "Requirement already satisfied: colorama in c:\\users\\virginia phan\\appdata\\roaming\\python\\python39\\site-packages (from tqdm>=4.27->transformers) (0.4.4)\n",
      "Installing collected packages: tokenizers, huggingface-hub, transformers\n",
      "Successfully installed huggingface-hub-0.12.1 tokenizers-0.13.2 transformers-4.26.1\n"
     ]
    }
   ],
   "source": [
    "!pip install transformers requests beautifulsoup4 pandas numpy"
   ]
  },
  {
   "cell_type": "code",
   "execution_count": 5,
   "id": "5fc52280",
   "metadata": {},
   "outputs": [],
   "source": [
    "from transformers import AutoTokenizer, AutoModelForSequenceClassification\n",
    "import torch\n",
    "import requests\n",
    "from bs4 import BeautifulSoup\n",
    "import re"
   ]
  },
  {
   "cell_type": "markdown",
   "id": "b3e917fd",
   "metadata": {},
   "source": [
    "# 2. Instantiate Model"
   ]
  },
  {
   "cell_type": "code",
   "execution_count": 8,
   "id": "b2104005",
   "metadata": {},
   "outputs": [
    {
     "data": {
      "application/vnd.jupyter.widget-view+json": {
       "model_id": "f9b518d5d4544478a70f89e6bcdd057d",
       "version_major": 2,
       "version_minor": 0
      },
      "text/plain": [
       "Downloading (…)okenizer_config.json:   0%|          | 0.00/39.0 [00:00<?, ?B/s]"
      ]
     },
     "metadata": {},
     "output_type": "display_data"
    },
    {
     "name": "stderr",
     "output_type": "stream",
     "text": [
      "D:\\Anaconda\\lib\\site-packages\\huggingface_hub\\file_download.py:129: UserWarning: `huggingface_hub` cache-system uses symlinks by default to efficiently store duplicated files but your machine does not support them in C:\\Users\\Virginia Phan\\.cache\\huggingface\\hub. Caching files will still work but in a degraded version that might require more space on your disk. This warning can be disabled by setting the `HF_HUB_DISABLE_SYMLINKS_WARNING` environment variable. For more details, see https://huggingface.co/docs/huggingface_hub/how-to-cache#limitations.\n",
      "To support symlinks on Windows, you either need to activate Developer Mode or to run Python as an administrator. In order to see activate developer mode, see this article: https://docs.microsoft.com/en-us/windows/apps/get-started/enable-your-device-for-development\n",
      "  warnings.warn(message)\n"
     ]
    },
    {
     "data": {
      "application/vnd.jupyter.widget-view+json": {
       "model_id": "498c55d4379640b29624dd2310ef0024",
       "version_major": 2,
       "version_minor": 0
      },
      "text/plain": [
       "Downloading (…)lve/main/config.json:   0%|          | 0.00/953 [00:00<?, ?B/s]"
      ]
     },
     "metadata": {},
     "output_type": "display_data"
    },
    {
     "data": {
      "application/vnd.jupyter.widget-view+json": {
       "model_id": "81497b7937cd4ae6b8dc1188e0c4f1af",
       "version_major": 2,
       "version_minor": 0
      },
      "text/plain": [
       "Downloading (…)solve/main/vocab.txt:   0%|          | 0.00/872k [00:00<?, ?B/s]"
      ]
     },
     "metadata": {},
     "output_type": "display_data"
    },
    {
     "data": {
      "application/vnd.jupyter.widget-view+json": {
       "model_id": "9922ad592d1044c198ae2beb87e7b1c7",
       "version_major": 2,
       "version_minor": 0
      },
      "text/plain": [
       "Downloading (…)cial_tokens_map.json:   0%|          | 0.00/112 [00:00<?, ?B/s]"
      ]
     },
     "metadata": {},
     "output_type": "display_data"
    },
    {
     "data": {
      "application/vnd.jupyter.widget-view+json": {
       "model_id": "1d96bb6911cf42298a80e6c27d858c0f",
       "version_major": 2,
       "version_minor": 0
      },
      "text/plain": [
       "Downloading (…)\"pytorch_model.bin\";:   0%|          | 0.00/669M [00:00<?, ?B/s]"
      ]
     },
     "metadata": {},
     "output_type": "display_data"
    }
   ],
   "source": [
    "tokenizer = AutoTokenizer.from_pretrained('nlptown/bert-base-multilingual-uncased-sentiment')\n",
    "model = AutoModelForSequenceClassification.from_pretrained('nlptown/bert-base-multilingual-uncased-sentiment')\n"
   ]
  },
  {
   "cell_type": "markdown",
   "id": "71b7b9a8",
   "metadata": {},
   "source": [
    "# 3. Encode and Calcualate Sentiment"
   ]
  },
  {
   "cell_type": "code",
   "execution_count": 9,
   "id": "f4f88f69",
   "metadata": {},
   "outputs": [],
   "source": [
    "tokens = tokenizer.encode('It was not that bad', return_tensors = 'pt')"
   ]
  },
  {
   "cell_type": "code",
   "execution_count": 10,
   "id": "1677fc82",
   "metadata": {},
   "outputs": [],
   "source": [
    "result = model(tokens)"
   ]
  },
  {
   "cell_type": "code",
   "execution_count": 11,
   "id": "a470e004",
   "metadata": {},
   "outputs": [
    {
     "data": {
      "text/plain": [
       "SequenceClassifierOutput(loss=None, logits=tensor([[-1.4933, -0.1706,  1.5934,  0.8356, -0.6145]],\n",
       "       grad_fn=<AddmmBackward0>), hidden_states=None, attentions=None)"
      ]
     },
     "execution_count": 11,
     "metadata": {},
     "output_type": "execute_result"
    }
   ],
   "source": [
    "result"
   ]
  },
  {
   "cell_type": "code",
   "execution_count": 12,
   "id": "9852eb14",
   "metadata": {},
   "outputs": [
    {
     "data": {
      "text/plain": [
       "tensor([[-1.4933, -0.1706,  1.5934,  0.8356, -0.6145]],\n",
       "       grad_fn=<AddmmBackward0>)"
      ]
     },
     "execution_count": 12,
     "metadata": {},
     "output_type": "execute_result"
    }
   ],
   "source": [
    "result.logits"
   ]
  },
  {
   "cell_type": "code",
   "execution_count": 16,
   "id": "3858c67a",
   "metadata": {},
   "outputs": [
    {
     "data": {
      "text/plain": [
       "3"
      ]
     },
     "execution_count": 16,
     "metadata": {},
     "output_type": "execute_result"
    }
   ],
   "source": [
    "# Sentiment points (scale from 1-5)\n",
    "int(torch.argmax(result.logits))+1"
   ]
  },
  {
   "cell_type": "markdown",
   "id": "9635f1e5",
   "metadata": {},
   "source": [
    "# 4. Collect Reviews"
   ]
  },
  {
   "cell_type": "code",
   "execution_count": 17,
   "id": "cb524b77",
   "metadata": {},
   "outputs": [],
   "source": [
    "r = requests.get('https://www.yelp.com/biz/kothai-republic-san-francisco')\n",
    "soup = BeautifulSoup(r.text, 'html.parser')\n",
    "regex = re.compile('.*comment.*')\n",
    "results = soup.find_all('p', {'class': regex})\n",
    "reviews = [result.text for result in results]"
   ]
  },
  {
   "cell_type": "code",
   "execution_count": 18,
   "id": "01732ea7",
   "metadata": {},
   "outputs": [
    {
     "data": {
      "text/plain": [
       "['I fall in love this amazing food. Atmospare was very good. Staff excellent.',\n",
       " 'Hi Shrader. Thanks for coming by to visit us. We will continue to give our best effort everyday. Thanks',\n",
       " 'Amazing new family-run restaurant! Super delicious flavors (we had the crispy pork, bibimbap, noodle soup and wish we had room for more), friendly service, lovely modern space, nice ambiance. Excellent portion sizes and prices.',\n",
       " 'Hi Colin. Our team really has no other words but to say thank you. We are sincerely grateful that you had a great experience with us.',\n",
       " \"Super solid spot! Loved it!Came on Sat evening around 6:30. Fairly busy but there wasn't a line out the door or anything. We had a reservation and were seated promptly. Interior is not too big, some tables are quite close to each other. But it was bright and cozy. Pretty classy dishware and decor in my opinion. Kitchen is somewhat visible from the dining room which was interesting!Service was really good! Waiters were attentive, kind, and very knowledgeable about the menu. We had a brief explanation when our dishes came out since the chicken came with some different spicy sauces. Menu itself is small; curious if they plan on expanding it. Not a bad thing at all though; I get the sense that they are just honing in on select dishes that they excel in. We shared the Korean noodles and thai chicken.Noodles: The pork is amazing!!!! My favorite part of the meal by far. I didn't know they were supposed to be cold noodles though lol just a heads up. But they were yummy and tangy. Noodles weren't soggy and had a nice bite. But yes the pork was definitely the star of this dish lol.Chicken: chicken was sooo tender and delicious. The braising sauce that comes with it is amazing. Loved this dish as well. It came with chili crunch and a green hot sauce, both were lovely. Noodles that came with the dish were also good but nothing special. The sauce really makes this a stellar dish.Overall very good! I can see myself coming back to try something new.\",\n",
       " 'Hello Stephanie! Thank you for coming in and allowing us to guide you through your experience. \\xa0As you observed, we really try our best to connect every dining guest with the kitchen. I am grateful you took that to heart while eating with us. Our menu will continue to stay concise with various dishes rotating in and out. Although we would love to serve a wider array of items, the kitchen is actually less than half the size of the dining room.We have taken note of your observation on the noodles and will revisit the preparation. Our team thanks you so much for coming in and we hope to see you again soon!!',\n",
       " \"Fantastic addition to the Inner Sunset neighborhood. What you'll notice when you first walk in is the kindness and joy that the staff here exude when greeting customers - they're truly glad to see you stop by and give their restaurant and food a go.And as for the food - amazing! A simple but enticing menu with many different asian cuisine influences. They also have a great house chili oil to accompany the dishes if you're looking for a little extra kick.The food we ordered:- Hamachi Kama, 8/10. Delicious, flavors were amazing. Just wish there was more of it!- Beef Noodle Soup, 9/10. The beef was so good that my only gripe about this dish is what I wish there was more beef. - Spicy Korean Noodle, 9/10. The way the meat is cooked with this is fantastic. Such a great combination of flavors with a light spice. Overall, can't recommend this cozy lil neighborhood spot enough. Excited to see them grow and continue to provide quality service to their customers!\",\n",
       " 'Hello Kyle. Thank you for your gracious words regarding your visit with us. Our team is sincerely grateful for every guest who chooses to visit us, and we only hope to be a positive and uplifting part of your day. We look forward to seeing you again. Thank you!!',\n",
       " 'I gave 3 stars for food 5 stars for service Kimchi rice ball is ok not spicy, could have been crispier Korean BBQ Skirt is a bit too sweet Rock Cod is over powering of the sauce, Overall we only try three dishes but I will definitely go back and try some other dishes again',\n",
       " \"A wonderful fusion between Thai and Korean that warmed my heart to see! I came here on Valentines Day and was thoroughly impressed by the fusion of flavors and the service. We tried the Kimchi Rice Balls, Korean BBQ Skirt, and Spicy Cold Noodles.Kimchi Cheese Ball: The rice had a wonderful acidic and spicy balance with savoriness from the meat. It had a crispy exterior which made for a nice texture contrast. It was paired with a slightly sweet cheese sauce that we really enjoyed.Korean BBQ Skirt: Kothai's take on a steak dish marinated with Korean BBQ sauce! They reduced the marinade leftover from the meat and combine it with horseradish and peanut sauce. I was really skeptical of this combination initially but they all balanced each other beautifully. A creamy, nutty, sweet sauce, with a slight kick at the end! After we were done with the steak, I was just eating the sauce on its own with my fork. If they sold this in bottles, I would definitely buy it!Spicy Cold Noodle with Pork Jowl: Another thoughtful dish with Korean and Thai flavors! This is your standard Korean spicy noodles with a twist of papaya, tamarind, and fried onions. The pork jowl was INSANELY tender and well seasoned. I would come here again even if all they sold was this pork.At the end of our meal, they gave us a rose and a cute heart shaped donut in honor of Valentines day. I will definitely be coming here again!\",\n",
       " \"Hi Shannon. Thank you sincerely for deciding to dine with us on Valentine's Day. We all here are proud to have been a part of a special day for you\",\n",
       " 'January 28, 2023 - Date night. KOREAN-THAI, KOTHAI! It has a nice ring to it. When Kothai popped up on my yelp account, I knew I had to try it.Honestly, I wanted to order everything on the menu. I wanted to indulge in the world of Korean and Thai mixed together. As a half Chinese and half Korean breed, I\\'ve tried plenty of Korean/Chinese cuisines. Never had I ever had Korean and Thai infused together. In my brain, it already made perfect sense because I LOVE spicy. I cannot eat a meal and feel satisfied without having high levels of spiciness. So you can already feel how excited I was when 2 culinary countries known for spiciness and flavor came together. ECSTATIC!Thai Crudo was pretty impressive. It was their take on a papaya salad. I didn\\'t know Hamachi will compliment papayas well. It worked! The flavors were very soft, not overly seasoned. It made this appetizer truly appetizing. It was the perfect starter to get our appetite\\'s wet. Beets and pear salad was so refreshing! They were not stingy with the amount of beets and juicy pears they served. Husband is not about veggies, but he kept going for seconds and thirds. Korean BBQ Steak with their \"garbage\" sauce is a must. My goodness! The steak itself was prepared med-rare and it was super-juicy-super-tender-super-duper-yummilicious! This beautiful, crazy-delicious, concoction of \"garbage\" sauce got us dipping and Dipping and kept on DIPPING with every bite. You\\'ll just have to order it for yourself and find out why it\\'s called their \"garbage sauce.\"I\\'ve had plenty shares of Hamachi Kama. But the way KOTHAI prepared it was phenomenal. It was a burst of flavors that tingled my taste buds. The breadcrumbs were crunchy, buttery and acidic. The broccoli rabe added bitterness and pepperiness to balance the breadcrumbs. And when eaten with the hamachi, it\\'s like fireworks in your mouth. As I\\'m writing this review, my mouth is getting watery. My least favorite was the Tom Yum. The rice noodles were over cooked that it was slimy. But that\\'s okay, some people might like that. I\\'ll have to go back to try their beef noodle soup in hopes that it\\'ll be more enjoyable. Thai Tea - MUST GET! Strong, creamy and not too sweet. It\\'s my kind of style. I\\'m sensitive to caffeine so I was up all night feeling jittery, but so worth it! It\\'s the best Thai tea I\\'ve ever had. In a world where boba/thai tea drinks are life, finding my favorite Thai tea spot is a true gem. Service was slow at first. We had to wait a while to order, but once the order was made, it was smooth sailin\\'. The owner (Korean) served most of our dishes and he seemed so personable. He engaged in conversation with us which really made us feel welcomed. He also expressed his gratitude to us for trying his restaurant. It was refreshing to be acknowledged because many places nowadays lack this form of hospitality. There\\'s several more dishes that I want to try so we\\'ll definitely be back! Oh~ I can\\'t wait. Welcome to SF KOTHAI! You\\'ve settled in the most perfect place, a city that\\'s always cold, your dishes will bring such warmth to our souls.',\n",
       " 'Hi Ella. Grateful for dining with an open pallette, thankful that you enjoyed your experience, humbled to read your words, proud of our team for the 14 hour days they put in, excited to see you guys for date night again!! And we will get right to work on correcting the temperature and timing on the noodles.Thank you!!!',\n",
       " \"I heard about this Thai/Korean fusion restaurant that opened up recently and I just had to try it. I came here to eat lunch with a friend and both of us enjoyed the meal. We did order a little bit too much and did end up having to take some food back home.The three things we ordered:- korean spicy noodles with pork- tom yum noodle soup with small rice noodles- bibimbap (not pictured)We also ordered their thai tea and their lavender coffee. For me personally, I thought the thai tea was too sweet for me. I would have preferred if there was less sugar in the tea. The korean spicy noodles were great! It had a great amount of flavor and I would order this again. The bibimbap was also delicious. The server came up to me and recommended us to eat the meat with their green sauce and that was delicious! Make sure you try their green sauce that they will provide to you. Lastly, the tom yum noodle soup tasted a little bit different from what I am used to. This wasn't my favorite dish out of the three, but it was still good. Overall, I would come back again to try their dishes. The service was great as well, and the interior was really pretty. This place is definitely a good spot for a date night or for a casual lunch or dinner with friends.\",\n",
       " \"Hi Paul, thanks for visiting us. I'm glad we were able to make your visit enjoyable. Please feel free to ask for less sweeter thai tea, and we can always easily adjust the ratio for you. Thanks for stepping out of the box and trying our tomyum. I do admit that we intentionally create that dish very intense and catered to our own pallette. The base stock is made every single morning using the heads and shells of the shrimp.\",\n",
       " \"Food truck turned brick and mortar. Still definitely working out the flow (saw our food pass our table twice, return to the kitchen to check which table and then brought to our table hahaha) but overall very well ran kitchen with great food. Would've tweaked a few things about the food but overall would give them a 4.5/5Ambiance: 4/5 smallish open seating area that is simple and clean. beautiful plates! Definitely be prepared to wait if you arrive 7p or later on a weekend night. Service: 5/5 staff was prompt and made sure our glasses were never empty.Food: Kimchi fried rice balls: 5/5 really nice texture. Mayo sauce on top was Yumm. Korean noodle: 5/5 would def order this again. They subbed the chicken out with pork and the pork was perfectly cooked and the sauce on it was the right amount of umami. It was paired with a refreshing cabbage slaw and the noodles were seasoned perfectly. Tom yum: 5/5 probably not your typically Tom yum but oh so yummy. Def more creamy than I'm used to but it was really good. Portion size is generous. The pork in mine was a little firm but the shrimp were JUICY and THICCCC. Spice was just right as well. The noodles do really soak up the soup though so would recommend splitting this if you don't eat a lot - wouldn't recommend taking this home for leftovers. Would def order this again. Beef noodle soup: 5/5 again not the typical BNS - the noodles are more like vermicelli/rice?? Not the egg noodle I'm used to. Almost had a pho like spin on the broth as well. But the add in spice sauce was fire and the meat was TENDER in this soup. Same comment as the Tom yum- finish it here; won't go home we'll. Chicken noodle: 3/5 chicken itself was really tender and good. Noodles were cooked well but a little bland. They come with a mushroom sauce which I didn't feel like it added much to the dish. I would love to see this dish with garlic noodle instead ! Overall definitely a place I will come back to!\",\n",
       " \"Hello Lori. Thank you for coming to see us. I hope we were able to put forth an enjoyable first experience for you. We'll get into R&D right away to elevate the noodles :)\",\n",
       " \"Kothai Republic has so much potential and I can foresee that if they tweak their dishes just a bit, this place can exceed expectations. Came here on a Tuesday and there was no one in the restaurant but my boyfriend and I were enticed but the pictures so we decided to give it a try.Waitress was amiable, quick and efficient and made sure we were checked up on constantly. The food, on the other hand, was of high quality ingredients but I didn't really care much for the execution of the dishes. The pear and beet salad was a strange combo and the sweetness of the pears overwhelmed the overall crisp salad which I personally could not palate. The beef noodle soup was delicious but the broth was overly salty for me. The beef was tender and juicy and made up for the broth. The noodles were cooked to perfection and was able to withhold \\xa0the flavors the broth well.Overall, I do see this place taking off in the near future.\",\n",
       " 'Hi Ada!! Thanks so much for taking the leap of faith and visiting us. Our team has taken notes of your observations and you are correct in that we are continuing to make adjustments. I hope you find the time to visit us again and we strive to make your next experience more enjoyable. Thank you!!']"
      ]
     },
     "execution_count": 18,
     "metadata": {},
     "output_type": "execute_result"
    }
   ],
   "source": [
    "reviews"
   ]
  },
  {
   "cell_type": "markdown",
   "id": "fe6494f9",
   "metadata": {},
   "source": [
    "# 5. Load Reviews into DataFrame and Score"
   ]
  },
  {
   "cell_type": "code",
   "execution_count": 19,
   "id": "0be92338",
   "metadata": {},
   "outputs": [],
   "source": [
    "import numpy as np\n",
    "import pandas as pd"
   ]
  },
  {
   "cell_type": "code",
   "execution_count": 20,
   "id": "61a39326",
   "metadata": {},
   "outputs": [],
   "source": [
    "df = pd.DataFrame(np.array(reviews), columns = ['review'])"
   ]
  },
  {
   "cell_type": "code",
   "execution_count": 30,
   "id": "70a7ee85",
   "metadata": {},
   "outputs": [
    {
     "data": {
      "text/plain": [
       "'Hi Shrader. Thanks for coming by to visit us. We will continue to give our best effort everyday. Thanks'"
      ]
     },
     "execution_count": 30,
     "metadata": {},
     "output_type": "execute_result"
    }
   ],
   "source": [
    "df['review'].iloc[1]"
   ]
  },
  {
   "cell_type": "code",
   "execution_count": 31,
   "id": "fcf9d019",
   "metadata": {},
   "outputs": [],
   "source": [
    "def sentiment_score(review):\n",
    "    tokens = tokenizer.encode(review, return_tensors = 'pt')\n",
    "    result = model(tokens)\n",
    "    return int(torch.argmax(result.logits))+1"
   ]
  },
  {
   "cell_type": "code",
   "execution_count": 32,
   "id": "c04543ed",
   "metadata": {},
   "outputs": [
    {
     "data": {
      "text/plain": [
       "5"
      ]
     },
     "execution_count": 32,
     "metadata": {},
     "output_type": "execute_result"
    }
   ],
   "source": [
    "sentiment_score(df['review'].iloc[1])"
   ]
  },
  {
   "cell_type": "code",
   "execution_count": 33,
   "id": "2f1edb83",
   "metadata": {},
   "outputs": [],
   "source": [
    "df['sentiment'] = df['review'].apply(lambda x: sentiment_score(x[:512]))"
   ]
  },
  {
   "cell_type": "code",
   "execution_count": 34,
   "id": "696efa59",
   "metadata": {},
   "outputs": [
    {
     "data": {
      "text/html": [
       "<div>\n",
       "<style scoped>\n",
       "    .dataframe tbody tr th:only-of-type {\n",
       "        vertical-align: middle;\n",
       "    }\n",
       "\n",
       "    .dataframe tbody tr th {\n",
       "        vertical-align: top;\n",
       "    }\n",
       "\n",
       "    .dataframe thead th {\n",
       "        text-align: right;\n",
       "    }\n",
       "</style>\n",
       "<table border=\"1\" class=\"dataframe\">\n",
       "  <thead>\n",
       "    <tr style=\"text-align: right;\">\n",
       "      <th></th>\n",
       "      <th>review</th>\n",
       "      <th>sentiment</th>\n",
       "    </tr>\n",
       "  </thead>\n",
       "  <tbody>\n",
       "    <tr>\n",
       "      <th>0</th>\n",
       "      <td>I fall in love this amazing food. Atmospare wa...</td>\n",
       "      <td>5</td>\n",
       "    </tr>\n",
       "    <tr>\n",
       "      <th>1</th>\n",
       "      <td>Hi Shrader. Thanks for coming by to visit us. ...</td>\n",
       "      <td>5</td>\n",
       "    </tr>\n",
       "    <tr>\n",
       "      <th>2</th>\n",
       "      <td>Amazing new family-run restaurant! Super delic...</td>\n",
       "      <td>5</td>\n",
       "    </tr>\n",
       "    <tr>\n",
       "      <th>3</th>\n",
       "      <td>Hi Colin. Our team really has no other words b...</td>\n",
       "      <td>5</td>\n",
       "    </tr>\n",
       "    <tr>\n",
       "      <th>4</th>\n",
       "      <td>Super solid spot! Loved it!Came on Sat evening...</td>\n",
       "      <td>4</td>\n",
       "    </tr>\n",
       "    <tr>\n",
       "      <th>5</th>\n",
       "      <td>Hello Stephanie! Thank you for coming in and a...</td>\n",
       "      <td>5</td>\n",
       "    </tr>\n",
       "    <tr>\n",
       "      <th>6</th>\n",
       "      <td>Fantastic addition to the Inner Sunset neighbo...</td>\n",
       "      <td>5</td>\n",
       "    </tr>\n",
       "    <tr>\n",
       "      <th>7</th>\n",
       "      <td>Hello Kyle. Thank you for your gracious words ...</td>\n",
       "      <td>5</td>\n",
       "    </tr>\n",
       "    <tr>\n",
       "      <th>8</th>\n",
       "      <td>I gave 3 stars for food 5 stars for service Ki...</td>\n",
       "      <td>3</td>\n",
       "    </tr>\n",
       "    <tr>\n",
       "      <th>9</th>\n",
       "      <td>A wonderful fusion between Thai and Korean tha...</td>\n",
       "      <td>5</td>\n",
       "    </tr>\n",
       "    <tr>\n",
       "      <th>10</th>\n",
       "      <td>Hi Shannon. Thank you sincerely for deciding t...</td>\n",
       "      <td>5</td>\n",
       "    </tr>\n",
       "    <tr>\n",
       "      <th>11</th>\n",
       "      <td>January 28, 2023 - Date night. KOREAN-THAI, KO...</td>\n",
       "      <td>5</td>\n",
       "    </tr>\n",
       "    <tr>\n",
       "      <th>12</th>\n",
       "      <td>Hi Ella. Grateful for dining with an open pall...</td>\n",
       "      <td>5</td>\n",
       "    </tr>\n",
       "    <tr>\n",
       "      <th>13</th>\n",
       "      <td>I heard about this Thai/Korean fusion restaura...</td>\n",
       "      <td>3</td>\n",
       "    </tr>\n",
       "    <tr>\n",
       "      <th>14</th>\n",
       "      <td>Hi Paul, thanks for visiting us. I'm glad we w...</td>\n",
       "      <td>5</td>\n",
       "    </tr>\n",
       "    <tr>\n",
       "      <th>15</th>\n",
       "      <td>Food truck turned brick and mortar. Still defi...</td>\n",
       "      <td>4</td>\n",
       "    </tr>\n",
       "    <tr>\n",
       "      <th>16</th>\n",
       "      <td>Hello Lori. Thank you for coming to see us. I ...</td>\n",
       "      <td>5</td>\n",
       "    </tr>\n",
       "    <tr>\n",
       "      <th>17</th>\n",
       "      <td>Kothai Republic has so much potential and I ca...</td>\n",
       "      <td>4</td>\n",
       "    </tr>\n",
       "    <tr>\n",
       "      <th>18</th>\n",
       "      <td>Hi Ada!! Thanks so much for taking the leap of...</td>\n",
       "      <td>5</td>\n",
       "    </tr>\n",
       "  </tbody>\n",
       "</table>\n",
       "</div>"
      ],
      "text/plain": [
       "                                               review  sentiment\n",
       "0   I fall in love this amazing food. Atmospare wa...          5\n",
       "1   Hi Shrader. Thanks for coming by to visit us. ...          5\n",
       "2   Amazing new family-run restaurant! Super delic...          5\n",
       "3   Hi Colin. Our team really has no other words b...          5\n",
       "4   Super solid spot! Loved it!Came on Sat evening...          4\n",
       "5   Hello Stephanie! Thank you for coming in and a...          5\n",
       "6   Fantastic addition to the Inner Sunset neighbo...          5\n",
       "7   Hello Kyle. Thank you for your gracious words ...          5\n",
       "8   I gave 3 stars for food 5 stars for service Ki...          3\n",
       "9   A wonderful fusion between Thai and Korean tha...          5\n",
       "10  Hi Shannon. Thank you sincerely for deciding t...          5\n",
       "11  January 28, 2023 - Date night. KOREAN-THAI, KO...          5\n",
       "12  Hi Ella. Grateful for dining with an open pall...          5\n",
       "13  I heard about this Thai/Korean fusion restaura...          3\n",
       "14  Hi Paul, thanks for visiting us. I'm glad we w...          5\n",
       "15  Food truck turned brick and mortar. Still defi...          4\n",
       "16  Hello Lori. Thank you for coming to see us. I ...          5\n",
       "17  Kothai Republic has so much potential and I ca...          4\n",
       "18  Hi Ada!! Thanks so much for taking the leap of...          5"
      ]
     },
     "execution_count": 34,
     "metadata": {},
     "output_type": "execute_result"
    }
   ],
   "source": [
    "df"
   ]
  },
  {
   "cell_type": "code",
   "execution_count": null,
   "id": "7a0dcd21",
   "metadata": {},
   "outputs": [],
   "source": []
  }
 ],
 "metadata": {
  "kernelspec": {
   "display_name": "Python 3 (ipykernel)",
   "language": "python",
   "name": "python3"
  },
  "language_info": {
   "codemirror_mode": {
    "name": "ipython",
    "version": 3
   },
   "file_extension": ".py",
   "mimetype": "text/x-python",
   "name": "python",
   "nbconvert_exporter": "python",
   "pygments_lexer": "ipython3",
   "version": "3.9.7"
  }
 },
 "nbformat": 4,
 "nbformat_minor": 5
}
